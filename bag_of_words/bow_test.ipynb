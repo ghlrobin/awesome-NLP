{
 "cells": [
  {
   "cell_type": "code",
   "execution_count": 1,
   "metadata": {},
   "outputs": [],
   "source": [
    "from bow import BagOfWords\n",
    "\n",
    "sentences = [\n",
    "    \" this is a sentence\",\n",
    "    \"this dog ate my homework\",\n",
    "    \"what is going on in this sentence\",\n",
    "    \"python is life\",\n",
    "    \"what is this dog\",\n",
    "    \"I want to know what you know\"\n",
    "    ]\n",
    "\n",
    "my_bag = BagOfWords(sentences)"
   ]
  },
  {
   "cell_type": "code",
   "execution_count": 2,
   "metadata": {},
   "outputs": [
    {
     "data": {
      "text/plain": [
       "[[1, 1, 0, 0, 0, 1, 0, 1, 0, 0, 0, 0, 0, 0, 0, 0, 0, 0, 0],\n",
       " [0, 1, 0, 1, 0, 0, 0, 0, 1, 0, 1, 0, 0, 1, 0, 0, 0, 0, 0],\n",
       " [1, 1, 1, 0, 0, 1, 0, 0, 0, 1, 0, 1, 0, 0, 1, 0, 0, 0, 0],\n",
       " [1, 0, 0, 0, 0, 0, 0, 0, 0, 0, 0, 0, 1, 0, 0, 1, 0, 0, 0],\n",
       " [1, 1, 1, 1, 0, 0, 0, 0, 0, 0, 0, 0, 0, 0, 0, 0, 0, 0, 0],\n",
       " [0, 0, 1, 0, 2, 0, 1, 0, 0, 0, 0, 0, 0, 0, 0, 0, 1, 1, 1]]"
      ]
     },
     "execution_count": 2,
     "metadata": {},
     "output_type": "execute_result"
    }
   ],
   "source": [
    "my_bag.encode()"
   ]
  },
  {
   "cell_type": "code",
   "execution_count": 3,
   "metadata": {},
   "outputs": [
    {
     "data": {
      "text/plain": [
       "['this', 'is', 'a', 'sentence']"
      ]
     },
     "execution_count": 3,
     "metadata": {},
     "output_type": "execute_result"
    }
   ],
   "source": [
    "my_bag.tokenize(sentences[0])"
   ]
  },
  {
   "cell_type": "code",
   "execution_count": 4,
   "metadata": {},
   "outputs": [
    {
     "data": {
      "text/plain": [
       "{'is': 0,\n",
       " 'this': 1,\n",
       " 'what': 2,\n",
       " 'dog': 3,\n",
       " 'know': 4,\n",
       " 'sentence': 5,\n",
       " 'I': 6,\n",
       " 'a': 7,\n",
       " 'ate': 8,\n",
       " 'going': 9,\n",
       " 'homework': 10,\n",
       " 'in': 11,\n",
       " 'life': 12,\n",
       " 'my': 13,\n",
       " 'on': 14,\n",
       " 'python': 15,\n",
       " 'to': 16,\n",
       " 'want': 17,\n",
       " 'you': 18}"
      ]
     },
     "execution_count": 4,
     "metadata": {},
     "output_type": "execute_result"
    }
   ],
   "source": [
    "my_bag.vocab"
   ]
  },
  {
   "cell_type": "code",
   "execution_count": 6,
   "metadata": {},
   "outputs": [
    {
     "data": {
      "text/plain": [
       "[('is', 4),\n",
       " ('this', 4),\n",
       " ('what', 3),\n",
       " ('dog', 2),\n",
       " ('know', 2),\n",
       " ('sentence', 2),\n",
       " ('I', 1),\n",
       " ('a', 1),\n",
       " ('ate', 1),\n",
       " ('going', 1),\n",
       " ('homework', 1),\n",
       " ('in', 1),\n",
       " ('life', 1),\n",
       " ('my', 1),\n",
       " ('on', 1),\n",
       " ('python', 1),\n",
       " ('to', 1),\n",
       " ('want', 1),\n",
       " ('you', 1)]"
      ]
     },
     "execution_count": 6,
     "metadata": {},
     "output_type": "execute_result"
    }
   ],
   "source": [
    "my_bag.bag"
   ]
  },
  {
   "cell_type": "code",
   "execution_count": 8,
   "metadata": {},
   "outputs": [],
   "source": [
    "sentence = \"I want to know what you know\""
   ]
  },
  {
   "cell_type": "code",
   "execution_count": 10,
   "metadata": {},
   "outputs": [
    {
     "data": {
      "text/plain": [
       "'I want'"
      ]
     },
     "execution_count": 10,
     "metadata": {},
     "output_type": "execute_result"
    }
   ],
   "source": [
    "single_tokens = sentence.split()\n",
    "ngram_tokens = []\n",
    "\" \".join(single_tokens[0:2])\n"
   ]
  }
 ],
 "metadata": {
  "kernelspec": {
   "display_name": "base",
   "language": "python",
   "name": "python3"
  },
  "language_info": {
   "codemirror_mode": {
    "name": "ipython",
    "version": 3
   },
   "file_extension": ".py",
   "mimetype": "text/x-python",
   "name": "python",
   "nbconvert_exporter": "python",
   "pygments_lexer": "ipython3",
   "version": "3.8.5"
  },
  "orig_nbformat": 4,
  "vscode": {
   "interpreter": {
    "hash": "d4d1e4263499bec80672ea0156c357c1ee493ec2b1c70f0acce89fc37c4a6abe"
   }
  }
 },
 "nbformat": 4,
 "nbformat_minor": 2
}
